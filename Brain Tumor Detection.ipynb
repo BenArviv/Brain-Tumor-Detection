{
 "cells": [
  {
<<<<<<< HEAD
   "cell_type": "raw",
   "id": "3e13b95a-ab32-45d0-bd22-366a48c95990",
   "metadata": {},
   "source": [
    "# Intro"
=======
   "cell_type": "markdown",
   "id": "6e9e9066",
   "metadata": {},
   "source": [
    "# Introduction"
>>>>>>> 8c90eb033f2e6f942024ad8bbef9918e18e22568
   ]
  },
  {
   "cell_type": "code",
   "execution_count": null,
<<<<<<< HEAD
   "id": "0edb04f1-bf91-41ab-8491-3791f787202d",
=======
>>>>>>> 8c90eb033f2e6f942024ad8bbef9918e18e22568
   "metadata": {},
   "outputs": [],
   "source": []
  }
 ],
 "metadata": {
<<<<<<< HEAD
  "kernelspec": {
   "display_name": "Python 3 (ipykernel)",
   "language": "python",
   "name": "python3"
  },
  "language_info": {
   "codemirror_mode": {
    "name": "ipython",
    "version": 3
   },
   "file_extension": ".py",
   "mimetype": "text/x-python",
   "name": "python",
   "nbconvert_exporter": "python",
   "pygments_lexer": "ipython3",
   "version": "3.11.5"
=======
  "language_info": {
   "name": "python"
>>>>>>> 8c90eb033f2e6f942024ad8bbef9918e18e22568
  }
 },
 "nbformat": 4,
 "nbformat_minor": 5
}
