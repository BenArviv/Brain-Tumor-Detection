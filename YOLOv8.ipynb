{
 "cells": [
  {
   "cell_type": "code",
   "execution_count": null,
   "id": "27bf9df1-8d38-40cd-9c6e-78cd342fe189",
   "metadata": {},
   "outputs": [],
   "source": [
    "def yolo2bbox(bboxes):\n",
    "    xmin, ymin = bboxes[0]-bboxes[2]/2, bboxes[1]-bboxes[3]/2\n",
    "    xmax, ymax = bboxes[0]+bboxes[2]/2, bboxes[1]+bboxes[3]/2\n",
    "    return xmin, ymin, xmax, xmin"
   ]
  },
  {
   "cell_type": "code",
   "execution_count": null,
   "id": "42052d0f-e2b9-463e-9c39-8494071e65a4",
   "metadata": {},
   "outputs": [],
   "source": [
    "def plot(image_paths, label_paths, num_samples=4):\n",
    "    all_images = []\n",
    "    all_images.extend(glob.glob(image_paths+'/*.jpg'))\n",
    "    all_images.extend(glob.glob(image_paths+'/*.JPG'))\n",
    "    all_images.sort()\n",
    "    num_images = len(all_images)\n",
    "    plt.figure(figsize=(15,12))\n",
    "    for i in range(num_samples):\n",
    "        j = random.randint(0,num_images-1)\n",
    "        image_name = all_images[j]\n",
    "        image_name = '.'.join(image_name.split(os.path.sep)[-1].split('.')[:-1])\n",
    "        image = cv2.imread(all_images[j])\n",
    "        with open(os.path.join(label_paths, image_name+'.txt'), 'r') as f:\n",
    "            bboxes = []\n",
    "            labels = []\n",
    "            label_lines = f.readlines()\n",
    "            for label_line in label_lines:\n",
    "                label = label_line[0]\n",
    "                bbox_string = label_line [2:]\n",
    "                x_c, y_c, w, h = bbox_string.split(' ')\n",
    "                x_c = float(x_c)\n",
    "                y_c = float(y_c)\n",
    "                w = float(w)\n",
    "                h = float(h)\n",
    "                bboxes.append([x_c, y_c, w ,h])\n",
    "                labels.append(label)\n",
    "            result_image = plot_box(image, bboxes, labels)\n",
    "            plt.subplot(2, 2, i+1)\n",
    "            plt.imshow(result_image[:,:,::-1])\n",
    "            plt.axis('off')\n",
    "        plt.subplots_adjust(wspace=1)\n",
    "        plt.tight_layout()\n",
    "        plt.show()"
   ]
  },
  {
   "cell_type": "code",
   "execution_count": null,
   "id": "c6f60420-2e00-46d9-90b8-831272912a47",
   "metadata": {},
   "outputs": [],
   "source": [
    "%%writefile tumor_v8.yaml\n",
    "path: '/Users/benarviv/Documents/OpenU/2024א/Data Science Workshop/Data Science Project/Brain-Tumor-Detection'\n",
    "train: 'train/images'\n",
    "val: 'valid/images'\n",
    "test: 'test/images'\n",
    "\n",
    "#class names\n",
    "names:\n",
    "    0: 'type1'\n",
    "    1: 'type2'\n",
    "    2: 'type3'"
   ]
  },
  {
   "cell_type": "code",
   "execution_count": null,
   "id": "c75e5c7d-9629-4d2d-8658-bd47aee410f0",
   "metadata": {},
   "outputs": [],
   "source": [
    "!pip install ultralytics"
   ]
  },
  {
   "cell_type": "code",
   "execution_count": null,
   "id": "ab806aef-1d00-4855-8eba-b5ece43e3a74",
   "metadata": {},
   "outputs": [],
   "source": [
    "from ultralytics import YOLO"
   ]
  },
  {
   "cell_type": "code",
   "execution_count": null,
   "id": "aa71a3c1-86f6-4637-bcf4-01808d064c90",
   "metadata": {},
   "outputs": [],
   "source": [
    "model = YOLO('yolov8s.pt')"
   ]
  },
  {
   "cell_type": "code",
   "execution_count": null,
   "id": "4fec191a",
   "metadata": {},
   "outputs": [],
   "source": [
    "# Assuming `model` is your trained YOLO model and `test_images` is a list of your test images\n",
    "\n",
    "for image in test_images:\n",
    "    # Run the model on the test image\n",
    "    boxes, confidences, class_ids = model.predict(image)\n",
    "\n",
    "    # Now `boxes` contains the bounding boxes predicted by the model,\n",
    "    # `confidences` contains the confidence scores for each box, and\n",
    "    # `class_ids` contains the class IDs for each box.\n",
    "\n",
    "    # You can compare these predictions to the ground truth to evaluate the model."
   ]
  },
  {
   "cell_type": "code",
   "execution_count": null,
   "id": "7e572df6",
   "metadata": {},
   "outputs": [],
   "source": []
  }
 ],
 "metadata": {
  "kernelspec": {
   "display_name": "Python 3 (ipykernel)",
   "language": "python",
   "name": "python3"
  },
  "language_info": {
   "codemirror_mode": {
    "name": "ipython",
    "version": 3
   },
   "file_extension": ".py",
   "mimetype": "text/x-python",
   "name": "python",
   "nbconvert_exporter": "python",
   "pygments_lexer": "ipython3",
   "version": "3.11.0"
  }
 },
 "nbformat": 4,
 "nbformat_minor": 5
}
