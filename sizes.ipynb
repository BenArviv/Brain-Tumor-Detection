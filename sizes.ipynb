{
 "cells": [
  {
   "cell_type": "code",
   "execution_count": 69,
   "metadata": {},
   "outputs": [],
   "source": [
    "import os\n",
    "import matplotlib.pyplot as plt\n",
    "import seaborn as sns\n",
    "import pandas as pd\n",
    "import cv2\n",
    "from PIL import Image"
   ]
  },
  {
   "cell_type": "code",
   "execution_count": 58,
   "metadata": {},
   "outputs": [],
   "source": [
    "labels_dir = os.path.join(os.getcwd(),'Clean', 'train', 'labels')\n",
    "labels_paths = [os.path.join(labels_dir, label) for label in os.listdir(labels_dir) if label.endswith('.txt')]"
   ]
  },
  {
   "cell_type": "code",
   "execution_count": 59,
   "metadata": {},
   "outputs": [],
   "source": [
    "def yoloToBbox(x, y, width, height):\n",
    "    IMG_WIDTH = 132\n",
    "    IMG_HEIGHT = 139\n",
    "    xmin = (x - width / 2) * IMG_WIDTH\n",
    "    ymin = (y - height / 2) * IMG_HEIGHT\n",
    "    xmax = (x + width / 2) * IMG_WIDTH\n",
    "    ymax = (y + height / 2) * IMG_HEIGHT\n",
    "    return xmin, ymin, xmax, ymax"
   ]
  },
  {
   "cell_type": "code",
   "execution_count": 60,
   "metadata": {},
   "outputs": [],
   "source": [
    "df = pd.DataFrame(columns=[\"name\", \"bbox\", \"area\"])\n",
    "for i, label in enumerate(labels_paths):\n",
    "    with open(label, 'r') as file:\n",
    "        lines = file.readlines()\n",
    "        idx, x_center, y_center, width, height = list(map(float, lines[0].strip().split()))\n",
    "        xmin, ymin, xmax, ymax = yoloToBbox(x_center, y_center, width, height)\n",
    "        tumor_area = ((ymax-ymin)/139) * ((xmax-xmin)/132)\n",
    "        bbox = [xmin, ymin, xmax, ymax]\n",
    "        df.loc[i] = [label, bbox, tumor_area]"
   ]
  },
  {
   "cell_type": "code",
   "execution_count": 66,
   "metadata": {},
   "outputs": [
    {
     "data": {
      "text/html": [
       "<div>\n",
       "<style scoped>\n",
       "    .dataframe tbody tr th:only-of-type {\n",
       "        vertical-align: middle;\n",
       "    }\n",
       "\n",
       "    .dataframe tbody tr th {\n",
       "        vertical-align: top;\n",
       "    }\n",
       "\n",
       "    .dataframe thead th {\n",
       "        text-align: right;\n",
       "    }\n",
       "</style>\n",
       "<table border=\"1\" class=\"dataframe\">\n",
       "  <thead>\n",
       "    <tr style=\"text-align: right;\">\n",
       "      <th></th>\n",
       "      <th>name</th>\n",
       "      <th>bbox</th>\n",
       "      <th>area</th>\n",
       "    </tr>\n",
       "  </thead>\n",
       "  <tbody>\n",
       "    <tr>\n",
       "      <th>2466</th>\n",
       "      <td>d:\\Workshop\\Brain-Tumor-Detection\\Clean\\train\\...</td>\n",
       "      <td>[85.46762589928058, 78.97727272727273, 86.4172...</td>\n",
       "      <td>0.000055</td>\n",
       "    </tr>\n",
       "    <tr>\n",
       "      <th>1953</th>\n",
       "      <td>d:\\Workshop\\Brain-Tumor-Detection\\Clean\\train\\...</td>\n",
       "      <td>[94.01438848920864, 14.742424242424242, 94.964...</td>\n",
       "      <td>0.000055</td>\n",
       "    </tr>\n",
       "    <tr>\n",
       "      <th>701</th>\n",
       "      <td>d:\\Workshop\\Brain-Tumor-Detection\\Clean\\train\\...</td>\n",
       "      <td>[77.87050359712231, 36.8560606060606, 78.82014...</td>\n",
       "      <td>0.000055</td>\n",
       "    </tr>\n",
       "    <tr>\n",
       "      <th>3421</th>\n",
       "      <td>d:\\Workshop\\Brain-Tumor-Detection\\Clean\\train\\...</td>\n",
       "      <td>[42.733812949640296, 87.40151515151516, 43.683...</td>\n",
       "      <td>0.000055</td>\n",
       "    </tr>\n",
       "    <tr>\n",
       "      <th>2086</th>\n",
       "      <td>d:\\Workshop\\Brain-Tumor-Detection\\Clean\\train\\...</td>\n",
       "      <td>[48.431654676258994, 18.954545454545453, 49.38...</td>\n",
       "      <td>0.000055</td>\n",
       "    </tr>\n",
       "    <tr>\n",
       "      <th>...</th>\n",
       "      <td>...</td>\n",
       "      <td>...</td>\n",
       "      <td>...</td>\n",
       "    </tr>\n",
       "    <tr>\n",
       "      <th>6190</th>\n",
       "      <td>d:\\Workshop\\Brain-Tumor-Detection\\Clean\\train\\...</td>\n",
       "      <td>[0.9496402877697856, 16.848484848484848, 125.3...</td>\n",
       "      <td>0.735394</td>\n",
       "    </tr>\n",
       "    <tr>\n",
       "      <th>5508</th>\n",
       "      <td>d:\\Workshop\\Brain-Tumor-Detection\\Clean\\train\\...</td>\n",
       "      <td>[0.0, 24.21969696969698, 127.25179856115108, 1...</td>\n",
       "      <td>0.752235</td>\n",
       "    </tr>\n",
       "    <tr>\n",
       "      <th>5509</th>\n",
       "      <td>d:\\Workshop\\Brain-Tumor-Detection\\Clean\\train\\...</td>\n",
       "      <td>[0.0, 22.11363636363636, 127.25179856115108, 1...</td>\n",
       "      <td>0.759538</td>\n",
       "    </tr>\n",
       "    <tr>\n",
       "      <th>5507</th>\n",
       "      <td>d:\\Workshop\\Brain-Tumor-Detection\\Clean\\train\\...</td>\n",
       "      <td>[0.0, 25.27272727272728, 129.15107913669064, 1...</td>\n",
       "      <td>0.763462</td>\n",
       "    </tr>\n",
       "    <tr>\n",
       "      <th>5506</th>\n",
       "      <td>d:\\Workshop\\Brain-Tumor-Detection\\Clean\\train\\...</td>\n",
       "      <td>[0.0, 26.325757575757585, 130.10071942446044, ...</td>\n",
       "      <td>0.784009</td>\n",
       "    </tr>\n",
       "  </tbody>\n",
       "</table>\n",
       "<p>6745 rows × 3 columns</p>\n",
       "</div>"
      ],
      "text/plain": [
       "                                                   name  \\\n",
       "2466  d:\\Workshop\\Brain-Tumor-Detection\\Clean\\train\\...   \n",
       "1953  d:\\Workshop\\Brain-Tumor-Detection\\Clean\\train\\...   \n",
       "701   d:\\Workshop\\Brain-Tumor-Detection\\Clean\\train\\...   \n",
       "3421  d:\\Workshop\\Brain-Tumor-Detection\\Clean\\train\\...   \n",
       "2086  d:\\Workshop\\Brain-Tumor-Detection\\Clean\\train\\...   \n",
       "...                                                 ...   \n",
       "6190  d:\\Workshop\\Brain-Tumor-Detection\\Clean\\train\\...   \n",
       "5508  d:\\Workshop\\Brain-Tumor-Detection\\Clean\\train\\...   \n",
       "5509  d:\\Workshop\\Brain-Tumor-Detection\\Clean\\train\\...   \n",
       "5507  d:\\Workshop\\Brain-Tumor-Detection\\Clean\\train\\...   \n",
       "5506  d:\\Workshop\\Brain-Tumor-Detection\\Clean\\train\\...   \n",
       "\n",
       "                                                   bbox      area  \n",
       "2466  [85.46762589928058, 78.97727272727273, 86.4172...  0.000055  \n",
       "1953  [94.01438848920864, 14.742424242424242, 94.964...  0.000055  \n",
       "701   [77.87050359712231, 36.8560606060606, 78.82014...  0.000055  \n",
       "3421  [42.733812949640296, 87.40151515151516, 43.683...  0.000055  \n",
       "2086  [48.431654676258994, 18.954545454545453, 49.38...  0.000055  \n",
       "...                                                 ...       ...  \n",
       "6190  [0.9496402877697856, 16.848484848484848, 125.3...  0.735394  \n",
       "5508  [0.0, 24.21969696969698, 127.25179856115108, 1...  0.752235  \n",
       "5509  [0.0, 22.11363636363636, 127.25179856115108, 1...  0.759538  \n",
       "5507  [0.0, 25.27272727272728, 129.15107913669064, 1...  0.763462  \n",
       "5506  [0.0, 26.325757575757585, 130.10071942446044, ...  0.784009  \n",
       "\n",
       "[6745 rows x 3 columns]"
      ]
     },
     "execution_count": 66,
     "metadata": {},
     "output_type": "execute_result"
    }
   ],
   "source": [
    "df = df.sort_values(\"area\")\n",
    "df"
   ]
  },
  {
   "cell_type": "code",
   "execution_count": 65,
   "metadata": {},
   "outputs": [
    {
     "data": {
      "text/plain": [
       "514"
      ]
     },
     "execution_count": 65,
     "metadata": {},
     "output_type": "execute_result"
    }
   ],
   "source": [
    "count = df[df[\"area\"] < 0.01]  \n",
    "len(count)"
   ]
  },
  {
   "cell_type": "code",
   "execution_count": 72,
   "metadata": {},
   "outputs": [
    {
     "ename": "error",
     "evalue": "OpenCV(4.9.0) :-1: error: (-5:Bad argument) in function 'rectangle'\n> Overload resolution failed:\n>  - Can't parse 'pt1'. Sequence item with index 0 has a wrong type\n>  - Can't parse 'pt1'. Sequence item with index 0 has a wrong type\n>  - Can't parse 'rec'. Expected sequence length 4, got 2\n>  - Can't parse 'rec'. Expected sequence length 4, got 2\n",
     "output_type": "error",
     "traceback": [
      "\u001b[1;31m---------------------------------------------------------------------------\u001b[0m",
      "\u001b[1;31merror\u001b[0m                                     Traceback (most recent call last)",
      "Cell \u001b[1;32mIn[72], line 10\u001b[0m\n\u001b[0;32m      8\u001b[0m     image \u001b[38;5;241m=\u001b[39m cv2\u001b[38;5;241m.\u001b[39mimread(img_path)\n\u001b[0;32m      9\u001b[0m     plt\u001b[38;5;241m.\u001b[39msubplot(\u001b[38;5;241m3\u001b[39m,\u001b[38;5;241m3\u001b[39m,i\u001b[38;5;241m+\u001b[39m\u001b[38;5;241m1\u001b[39m)\n\u001b[1;32m---> 10\u001b[0m     cv2\u001b[38;5;241m.\u001b[39mrectangle(image, (bbox[\u001b[38;5;241m0\u001b[39m],bbox[\u001b[38;5;241m1\u001b[39m]) , (bbox[\u001b[38;5;241m2\u001b[39m],bbox[\u001b[38;5;241m3\u001b[39m]),(\u001b[38;5;241m255\u001b[39m,\u001b[38;5;241m0\u001b[39m,\u001b[38;5;241m0\u001b[39m),\u001b[38;5;241m1\u001b[39m)\n\u001b[0;32m     11\u001b[0m     plt\u001b[38;5;241m.\u001b[39mimshow(image)\n\u001b[0;32m     13\u001b[0m plt\u001b[38;5;241m.\u001b[39mshow()\n",
      "\u001b[1;31merror\u001b[0m: OpenCV(4.9.0) :-1: error: (-5:Bad argument) in function 'rectangle'\n> Overload resolution failed:\n>  - Can't parse 'pt1'. Sequence item with index 0 has a wrong type\n>  - Can't parse 'pt1'. Sequence item with index 0 has a wrong type\n>  - Can't parse 'rec'. Expected sequence length 4, got 2\n>  - Can't parse 'rec'. Expected sequence length 4, got 2\n"
     ]
    },
    {
     "data": {
      "image/png": "[encoded data removed]",
      "text/plain": [
       "<Figure size 1500x1500 with 9 Axes>"
      ]
     },
     "metadata": {},
     "output_type": "display_data"
    }
   ],
   "source": [
    "fig, axe = plt.subplots(3, 3, figsize=(15,15))\n",
    "for i in range(9):\n",
    "    label_path = df[\"name\"].iloc[i]\n",
    "    bbox = df[\"bbox\"].iloc[i]\n",
    "    img_path = label_path.replace(\"txt\", \"jpg\")\n",
    "    img_path = img_path.replace(\"labels\", \"images\")\n",
    "\n",
    "    image = cv2.imread(img_path)\n",
    "    plt.subplot(3,3,i+1)\n",
    "    cv2.rectangle(image, (bbox[0],bbox[1]) , (bbox[2],bbox[3]),(255,0,0),1)\n",
    "    plt.imshow(image)\n",
    "\n",
    "plt.show()\n",
    "\n",
    "    \n"
   ]
  },
  {
   "cell_type": "code",
   "execution_count": null,
   "metadata": {},
   "outputs": [],
   "source": []
  }
 ],
 "metadata": {
  "kernelspec": {
   "display_name": "base",
   "language": "python",
   "name": "python3"
  },
  "language_info": {
   "codemirror_mode": {
    "name": "ipython",
    "version": 3
   },
   "file_extension": ".py",
   "mimetype": "text/x-python",
   "name": "python",
   "nbconvert_exporter": "python",
   "pygments_lexer": "ipython3",
   "version": "3.11.7"
  }
 },
 "nbformat": 4,
 "nbformat_minor": 2
}
